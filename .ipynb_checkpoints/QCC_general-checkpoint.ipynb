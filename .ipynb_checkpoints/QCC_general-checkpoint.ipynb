{
 "cells": [
  {
   "cell_type": "code",
   "execution_count": 1,
   "id": "91488dd7",
   "metadata": {},
   "outputs": [],
   "source": [
    "#从selenium导入浏览器驱动\n",
    "from selenium import webdriver\n",
    "#导入浏览器驱动设置选项\n",
    "from selenium.webdriver.chrome.options import Options\n",
    "from selenium.webdriver.common.by import By\n",
    "from selenium.webdriver.support import expected_conditions as EC\n",
    "from selenium.webdriver.support.ui import WebDriverWait\n",
    "#导入网页解析库\n",
    "from bs4 import BeautifulSoup\n",
    "#导入时间库,利用time.time()防止爬虫访问过于频繁被禁止访问\n",
    "import time\n",
    "#导入pandas数据分析库,生成dataframe\n",
    "import pandas as pd\n",
    "import pickle"
   ]
  },
  {
   "cell_type": "code",
   "execution_count": 2,
   "id": "f153ab2d",
   "metadata": {},
   "outputs": [],
   "source": [
    "companies = ['阿里巴巴（中国）网络技术有限公司']"
   ]
  },
  {
   "cell_type": "code",
   "execution_count": 3,
   "id": "2e10753c",
   "metadata": {},
   "outputs": [
    {
     "name": "stdout",
     "output_type": "stream",
     "text": [
      "请在打开的网页，扫码登录！\n"
     ]
    }
   ],
   "source": [
    "driver = webdriver.Chrome() #实例化一个浏览器\n",
    "driver.get('https://www.qcc.com/')\n",
    "print('请在打开的网页，扫码登录！')\n",
    "time.sleep(1.238)\n",
    "new_cookies = driver.get_cookies() #获取最新的cookies\n",
    "pickle.dump( new_cookies, open(\"cookies.pkl\",\"wb\"))\n",
    "driver.quit() #关闭浏览器"
   ]
  },
  {
   "cell_type": "code",
   "execution_count": 4,
   "id": "ac4a97c8",
   "metadata": {},
   "outputs": [],
   "source": [
    "for c in companies:\n",
    "    chrome_options=Options()\n",
    "    chrome_options.add_argument('--headless')\n",
    "    driver = webdriver.Chrome(options=chrome_options)\n",
    "    driver = webdriver.Chrome() #实例化一个谷歌浏览器对象\n",
    "    driver.get(\"https://www.qcc.com/\") #浏览器打开企查查网站\n",
    "    \n",
    "    cookies = pickle.load(open(\"cookies.pkl\", \"rb\"))\n",
    "    for cookie in cookies:\n",
    "        driver.add_cookie(cookie)\n",
    "    driver.get(\"https://www.qcc.com/\")\n",
    "    driver.refresh() #自动刷新页面，请检查是否已经自动登录账号\n",
    "    time.sleep(2.273)\n",
    "    \n",
    "    driver.find_element(By.XPATH, \"//input[contains(@id,'searchKey')]\").send_keys(c)\n",
    "    driver.find_element(By.XPATH, \"//button[@class='btn btn-primary']\").click()\n",
    "    time.sleep(3)\n",
    "    bs = BeautifulSoup(driver.page_source,'html.parser')  #将加载好的网页用BeautifulSoup解析成文本"
   ]
  }
 ],
 "metadata": {
  "kernelspec": {
   "display_name": "Python 3 (ipykernel)",
   "language": "python",
   "name": "python3"
  },
  "language_info": {
   "codemirror_mode": {
    "name": "ipython",
    "version": 3
   },
   "file_extension": ".py",
   "mimetype": "text/x-python",
   "name": "python",
   "nbconvert_exporter": "python",
   "pygments_lexer": "ipython3",
   "version": "3.9.7"
  }
 },
 "nbformat": 4,
 "nbformat_minor": 5
}
