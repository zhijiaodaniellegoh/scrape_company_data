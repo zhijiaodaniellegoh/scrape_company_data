{
 "cells": [
  {
   "cell_type": "code",
   "execution_count": 1,
   "id": "91488dd7",
   "metadata": {},
   "outputs": [],
   "source": [
    "#从selenium导入浏览器驱动\n",
    "from selenium import webdriver\n",
    "#导入浏览器驱动设置选项\n",
    "from selenium.webdriver.chrome.options import Options\n",
    "from selenium.webdriver.common.by import By\n",
    "from selenium.webdriver.support import expected_conditions as EC\n",
    "from selenium.webdriver.support.ui import WebDriverWait\n",
    "#导入网页解析库\n",
    "from bs4 import BeautifulSoup\n",
    "#导入时间库,利用time.time()防止爬虫访问过于频繁被禁止访问\n",
    "import time\n",
    "#导入pandas数据分析库,生成dataframe\n",
    "import pandas as pd\n",
    "import pickle\n",
    "import re\n",
    "from china_cities import *\n",
    "import csv\n",
    "import requests, lxml\n",
    "import json\n",
    "import pinyin.cedict"
   ]
  },
  {
   "cell_type": "code",
   "execution_count": 2,
   "id": "79dd3a76",
   "metadata": {},
   "outputs": [],
   "source": [
    "company = '阿里巴巴（中国）网络技术有限公司'"
   ]
  },
  {
   "cell_type": "code",
   "execution_count": 3,
   "id": "1698297e",
   "metadata": {},
   "outputs": [],
   "source": [
    "ENV = 'dev'\n",
    "ENV_FILENAME = 'prod.env' if ENV == 'prod' else 'dev.env'\n",
    "AIRTABLE_SHEET_NAME = 'Company Data ENTRY TABLE' if ENV == 'prod' else 'qcc_scrape'"
   ]
  },
  {
   "cell_type": "code",
   "execution_count": 4,
   "id": "3db30c88",
   "metadata": {},
   "outputs": [],
   "source": [
    "env_vars = {}\n",
    "\n",
    "with open(ENV_FILENAME) as f:\n",
    "    for line in f:\n",
    "        if line.startswith('#') or not line.strip():\n",
    "            continue\n",
    "        key, value = line.strip().split('=')\n",
    "        env_vars[key] = value\n",
    "\n",
    "AIRTABLE_TOKEN = env_vars[\"AIRTABLE_TOKEN\"]\n",
    "AIRTABLE_BASE_ID = env_vars[\"AIRTABLE_BASE_ID\"]\n",
    "AIRTABLE_URL = f\"https://api.airtable.com/v0/{AIRTABLE_BASE_ID}\""
   ]
  },
  {
   "cell_type": "code",
   "execution_count": 5,
   "id": "aae0a721",
   "metadata": {},
   "outputs": [],
   "source": [
    "def get_registered_year(str_table):\n",
    "    str_table_year = re.compile(r'([1|2]\\d\\d\\d)[-](0[1-9]|1[012])[-](0[1-9]|[12][0-9]|3[01])')\n",
    "    iterator = str_table_year.findall(str_table)\n",
    "    if len(list(iterator)) > 0:\n",
    "         return list(iterator)[0][0]\n",
    "    elif \"年\" in str_table:\n",
    "        str_table_year = re.compile(r'([1|2]\\d\\d\\d)[年](\\d+)[月](\\d+)[日]')\n",
    "        iterator = str_table_year.findall(str_table)\n",
    "        return list(iterator)[0][0]"
   ]
  },
  {
   "cell_type": "code",
   "execution_count": 6,
   "id": "f25fe2fe",
   "metadata": {},
   "outputs": [],
   "source": [
    "def get_headquarter(str_table):\n",
    "    headquarters = {\n",
    "        '开曼群岛': 'Cayman Islands',\n",
    "        '開曼群島':'Cayman Islands',\n",
    "        '英属维尔京群岛': 'British Virgin Islands'\n",
    "    }\n",
    "    with open('chinese_cities.csv', newline='') as csvfile:\n",
    "        headquarter_reader = csv.reader(csvfile, delimiter=',')\n",
    "        for en_city, cn_city, en_province in headquarter_reader:\n",
    "            if cn_city in ['香港', '澳门', '澳門', '北京市', '重庆市', '上海市', '天津市']:\n",
    "                headquarters[cn_city] = \"{}, China\".format(en_city)\n",
    "            else:\n",
    "                headquarters[cn_city] = \"{}, {}, China\".format(en_city, en_province)\n",
    "\n",
    "    en_headquarter = [headquarter for cn_city, headquarter in headquarters.items() if cn_city in str_table]\n",
    "    if '非香港' in str_table:\n",
    "        en_headquarter.remove('Hong Kong, China')\n",
    "        return 'Headquarter is N/A'\n",
    "    if 'Cayman Islands' in en_headquarter:\n",
    "        return 'Put in incorporated catergory'\n",
    "    else:\n",
    "        return en_headquarter"
   ]
  },
  {
   "cell_type": "code",
   "execution_count": 10,
   "id": "2e10753c",
   "metadata": {},
   "outputs": [
    {
     "name": "stdout",
     "output_type": "stream",
     "text": [
      "请在打开的网页，扫码登录！\n"
     ]
    }
   ],
   "source": [
    "driver = webdriver.Chrome() #实例化一个浏览器\n",
    "driver.get('https://www.qcc.com/')\n",
    "print('请在打开的网页，扫码登录！')\n",
    "time.sleep(10)\n",
    "new_cookies = driver.get_cookies() #获取最新的cookies\n",
    "pickle.dump( new_cookies, open(\"cookies.pkl\",\"wb\"))\n",
    "driver.quit() #关闭浏览器"
   ]
  },
  {
   "cell_type": "code",
   "execution_count": 11,
   "id": "ac4a97c8",
   "metadata": {},
   "outputs": [],
   "source": [
    "'''若取消下方被注释的代码可静默运行浏览器，不会显示页面，仅在后台运行'''\n",
    "chrome_options=Options()\n",
    "chrome_options.add_argument('--headless')\n",
    "driver = webdriver.Chrome(options=chrome_options)\n",
    "driver = webdriver.Chrome()           #实例化一个谷歌浏览器对象\n",
    "driver.get(\"https://www.qcc.com/\")   #浏览器打开企查查网站\n",
    "\n",
    "cookies = pickle.load(open(\"cookies.pkl\", \"rb\"))\n",
    "for cookie in cookies:\n",
    "    driver.add_cookie(cookie)\n",
    "driver.get(\"https://www.qcc.com/\")\n",
    "driver.refresh()                #自动刷新页面，请检查是否已经自动登录账号"
   ]
  },
  {
   "cell_type": "code",
   "execution_count": 12,
   "id": "026f6c94",
   "metadata": {},
   "outputs": [
    {
     "name": "stdout",
     "output_type": "stream",
     "text": [
      "基本信息: <table class=\"ntable\"><tr><td class=\"tb\" width=\"13%\">统一社会信用代码 <i aria-label=\"icon: icon-icon_zhushi\" class=\"app-glossary-info glossary-info anticon anticon-icon-icon_zhushi aicon aicon-zhushi\"><svg aria-hidden=\"true\" class=\"\" fill=\"currentColor\" focusable=\"false\" height=\"1em\" width=\"1em\"><use xlink:href=\"#icon-icon_zhushi\"></use></svg></i></td> <td style=\"padding-right: 0px;\" width=\"21%\"><div class=\"app-copy-box copy-hover-item\" data-v-7a4909d8=\"\"><span class=\"copy-value\" data-v-7a4909d8=\"\">91330100716105852F</span> <span class=\"app-copy copy-button-item\" data-v-7a4909d8=\"\"><div class=\"base_copy\" data-v-7a4909d8=\"\"><i aria-label=\"icon: icon-icon_fuzhi\" class=\"anticon anticon-icon-icon_fuzhi aicon aicon-fuzhi\" data-v-7a4909d8=\"\"><svg aria-hidden=\"true\" class=\"\" fill=\"currentColor\" focusable=\"false\" height=\"1em\" width=\"1em\"><use data-v-7a4909d8=\"\" xlink:href=\"#icon-icon_fuzhi\"></use></svg></i> <span data-v-7a4909d8=\"\">复制</span></div></span> <textarea class=\"copy_input\" data-v-7a4909d8=\"\" id=\"CopyInut1656970010928\" type=\"text\"></textarea></div></td> <td class=\"tb\" width=\"13%\">企业名称 <i aria-label=\"icon: icon-icon_zhushi\" class=\"app-glossary-info glossary-info anticon anticon-icon-icon_zhushi aicon aicon-zhushi\"><svg aria-hidden=\"true\" class=\"\" fill=\"currentColor\" focusable=\"false\" height=\"1em\" width=\"1em\"><use xlink:href=\"#icon-icon_zhushi\"></use></svg></i></td> <td colspan=\"3\"><div class=\"app-copy-box copy-hover-item\" data-v-7a4909d8=\"\"><span class=\"copy-value\" data-v-7a4909d8=\"\">阿里巴巴（中国）网络技术有限公司</span> <span class=\"app-copy copy-button-item\" data-v-7a4909d8=\"\"><div class=\"base_copy\" data-v-7a4909d8=\"\"><i aria-label=\"icon: icon-icon_fuzhi\" class=\"anticon anticon-icon-icon_fuzhi aicon aicon-fuzhi\" data-v-7a4909d8=\"\"><svg aria-hidden=\"true\" class=\"\" fill=\"currentColor\" focusable=\"false\" height=\"1em\" width=\"1em\"><use data-v-7a4909d8=\"\" xlink:href=\"#icon-icon_fuzhi\"></use></svg></i> <span data-v-7a4909d8=\"\">复制</span></div></span> <textarea class=\"copy_input\" data-v-7a4909d8=\"\" id=\"CopyInut1656970010930\" type=\"text\"></textarea></div></td></tr> <tr><td class=\"tb\" width=\"13%\">法定代表人\n",
      "        <i aria-label=\"icon: icon-icon_zhushi\" class=\"app-glossary-info glossary-info anticon anticon-icon-icon_zhushi aicon aicon-zhushi\"><svg aria-hidden=\"true\" class=\"\" fill=\"currentColor\" focusable=\"false\" height=\"1em\" width=\"1em\"><use xlink:href=\"#icon-icon_zhushi\"></use></svg></i> <!-- --></td> <td class=\"base-opertd\"><div class=\"m-t-xs m-b-xs\"><div class=\"td-coy\"><span class=\"headimg\"><span class=\"app-auto-logo\" style=\"width: 40px; height: 40px;\"><img alt=\"戴珊\" src=\"https://image.qcc.com/person/pa1c5ca942a9c751b24a63838aad257f.jpg?x-oss-process=style/logo_200\" style=\"width: 40px; height: 40px; border: 1px solid rgb(238, 238, 238); border-radius: 4px;\"/></span></span> <span class=\"cont\"><span><span><a href=\"https://www.qcc.com/pl/pa1c5ca942a9c751b24a63838aad257f.html\" target=\"_blank\">戴珊</a></span> <!-- --></span> <!-- --> <!-- --> <a class=\"war-link\"><i aria-label=\"icon: icon-icon_guanlianqiye\" class=\"anticon anticon-icon-icon_guanlianqiye aicon aicon-guanlianqiye\"><svg aria-hidden=\"true\" class=\"\" fill=\"currentColor\" focusable=\"false\" height=\"1em\" width=\"1em\"><use xlink:href=\"#icon-icon_guanlianqiye\"></use></svg></i> <span>关联24家企业 &gt;</span></a> </span> <!-- --> </div></div></td> <td class=\"tb\" width=\"13%\">登记状态 <i aria-label=\"icon: icon-icon_zhushi\" class=\"app-glossary-info glossary-info anticon anticon-icon-icon_zhushi aicon aicon-zhushi\"><svg aria-hidden=\"true\" class=\"\" fill=\"currentColor\" focusable=\"false\" height=\"1em\" width=\"1em\"><use xlink:href=\"#icon-icon_zhushi\"></use></svg></i></td> <td width=\"20%\">存续</td> <td class=\"tb\" width=\"13%\">成立日期 <i aria-label=\"icon: icon-icon_zhushi\" class=\"app-glossary-info glossary-info anticon anticon-icon-icon_zhushi aicon aicon-zhushi\"><svg aria-hidden=\"true\" class=\"\" fill=\"currentColor\" focusable=\"false\" height=\"1em\" width=\"1em\"><use xlink:href=\"#icon-icon_zhushi\"></use></svg></i></td> <td width=\"20%\"><div class=\"app-copy-box copy-hover-item\" data-v-7a4909d8=\"\"><span class=\"copy-value\" data-v-7a4909d8=\"\"> 1999-09-08</span> <span class=\"app-copy copy-button-item\" data-v-7a4909d8=\"\"><div class=\"base_copy\" data-v-7a4909d8=\"\"><i aria-label=\"icon: icon-icon_fuzhi\" class=\"anticon anticon-icon-icon_fuzhi aicon aicon-fuzhi\" data-v-7a4909d8=\"\"><svg aria-hidden=\"true\" class=\"\" fill=\"currentColor\" focusable=\"false\" height=\"1em\" width=\"1em\"><use data-v-7a4909d8=\"\" xlink:href=\"#icon-icon_fuzhi\"></use></svg></i> <span data-v-7a4909d8=\"\">复制</span></div></span> <textarea class=\"copy_input\" data-v-7a4909d8=\"\" id=\"CopyInut1656970010937\" type=\"text\"></textarea></div></td></tr> <tr><td class=\"tb\"><span>注册资本</span> <i aria-label=\"icon: icon-icon_zhushi\" class=\"app-glossary-info glossary-info anticon anticon-icon-icon_zhushi aicon aicon-zhushi\"><svg aria-hidden=\"true\" class=\"\" fill=\"currentColor\" focusable=\"false\" height=\"1em\" width=\"1em\"><use xlink:href=\"#icon-icon_zhushi\"></use></svg></i></td> <td>1072526万美元</td> <td class=\"tb\">实缴资本 <i aria-label=\"icon: icon-icon_zhushi\" class=\"app-glossary-info glossary-info anticon anticon-icon-icon_zhushi aicon aicon-zhushi\"><svg aria-hidden=\"true\" class=\"\" fill=\"currentColor\" focusable=\"false\" height=\"1em\" width=\"1em\"><use xlink:href=\"#icon-icon_zhushi\"></use></svg></i></td> <td>\n",
      "        553011万美元\n",
      "        <i aria-label=\"icon: icon-icon_zhushi\" class=\"anticon anticon-icon-icon_zhushi aicon aicon-zhushi\"><svg aria-hidden=\"true\" class=\"\" fill=\"currentColor\" focusable=\"false\" height=\"1em\" width=\"1em\"><use xlink:href=\"#icon-icon_zhushi\"></use></svg></i></td> <td class=\"tb\">核准日期 <i aria-label=\"icon: icon-icon_zhushi\" class=\"app-glossary-info glossary-info anticon anticon-icon-icon_zhushi aicon aicon-zhushi\"><svg aria-hidden=\"true\" class=\"\" fill=\"currentColor\" focusable=\"false\" height=\"1em\" width=\"1em\"><use xlink:href=\"#icon-icon_zhushi\"></use></svg></i></td> <td><div class=\"app-copy-box copy-hover-item\" data-v-7a4909d8=\"\"><span class=\"copy-value\" data-v-7a4909d8=\"\"> 2022-01-18</span> <span class=\"app-copy copy-button-item\" data-v-7a4909d8=\"\"><div class=\"base_copy\" data-v-7a4909d8=\"\"><i aria-label=\"icon: icon-icon_fuzhi\" class=\"anticon anticon-icon-icon_fuzhi aicon aicon-fuzhi\" data-v-7a4909d8=\"\"><svg aria-hidden=\"true\" class=\"\" fill=\"currentColor\" focusable=\"false\" height=\"1em\" width=\"1em\"><use data-v-7a4909d8=\"\" xlink:href=\"#icon-icon_fuzhi\"></use></svg></i> <span data-v-7a4909d8=\"\">复制</span></div></span> <textarea class=\"copy_input\" data-v-7a4909d8=\"\" id=\"CopyInut1656970010941\" type=\"text\"></textarea></div></td></tr> <tr><td class=\"tb\">组织机构代码 <i aria-label=\"icon: icon-icon_zhushi\" class=\"app-glossary-info glossary-info anticon anticon-icon-icon_zhushi aicon aicon-zhushi\"><svg aria-hidden=\"true\" class=\"\" fill=\"currentColor\" focusable=\"false\" height=\"1em\" width=\"1em\"><use xlink:href=\"#icon-icon_zhushi\"></use></svg></i></td> <td><div class=\"app-copy-box copy-hover-item\" data-v-7a4909d8=\"\"><span class=\"copy-value\" data-v-7a4909d8=\"\">71610585-2</span> <span class=\"app-copy copy-button-item\" data-v-7a4909d8=\"\"><div class=\"base_copy\" data-v-7a4909d8=\"\"><i aria-label=\"icon: icon-icon_fuzhi\" class=\"anticon anticon-icon-icon_fuzhi aicon aicon-fuzhi\" data-v-7a4909d8=\"\"><svg aria-hidden=\"true\" class=\"\" fill=\"currentColor\" focusable=\"false\" height=\"1em\" width=\"1em\"><use data-v-7a4909d8=\"\" xlink:href=\"#icon-icon_fuzhi\"></use></svg></i> <span data-v-7a4909d8=\"\">复制</span></div></span> <textarea class=\"copy_input\" data-v-7a4909d8=\"\" id=\"CopyInut1656970010943\" type=\"text\"></textarea></div></td> <td class=\"tb\">工商注册号 <i aria-label=\"icon: icon-icon_zhushi\" class=\"app-glossary-info glossary-info anticon anticon-icon-icon_zhushi aicon aicon-zhushi\"><svg aria-hidden=\"true\" class=\"\" fill=\"currentColor\" focusable=\"false\" height=\"1em\" width=\"1em\"><use xlink:href=\"#icon-icon_zhushi\"></use></svg></i></td> <td><div class=\"app-copy-box copy-hover-item\" data-v-7a4909d8=\"\"><span class=\"copy-value\" data-v-7a4909d8=\"\">330100400015575</span> <span class=\"app-copy copy-button-item\" data-v-7a4909d8=\"\"><div class=\"base_copy\" data-v-7a4909d8=\"\"><i aria-label=\"icon: icon-icon_fuzhi\" class=\"anticon anticon-icon-icon_fuzhi aicon aicon-fuzhi\" data-v-7a4909d8=\"\"><svg aria-hidden=\"true\" class=\"\" fill=\"currentColor\" focusable=\"false\" height=\"1em\" width=\"1em\"><use data-v-7a4909d8=\"\" xlink:href=\"#icon-icon_fuzhi\"></use></svg></i> <span data-v-7a4909d8=\"\">复制</span></div></span> <textarea class=\"copy_input\" data-v-7a4909d8=\"\" id=\"CopyInut1656970010946\" type=\"text\"></textarea></div></td> <td class=\"tb\">纳税人识别号 <i aria-label=\"icon: icon-icon_zhushi\" class=\"app-glossary-info glossary-info anticon anticon-icon-icon_zhushi aicon aicon-zhushi\"><svg aria-hidden=\"true\" class=\"\" fill=\"currentColor\" focusable=\"false\" height=\"1em\" width=\"1em\"><use xlink:href=\"#icon-icon_zhushi\"></use></svg></i></td> <td style=\"padding-right: 0px;\"><div class=\"app-copy-box copy-hover-item\" data-v-7a4909d8=\"\"><span class=\"copy-value\" data-v-7a4909d8=\"\">91330100716105852F</span> <span class=\"app-copy copy-button-item\" data-v-7a4909d8=\"\"><div class=\"base_copy\" data-v-7a4909d8=\"\"><i aria-label=\"icon: icon-icon_fuzhi\" class=\"anticon anticon-icon-icon_fuzhi aicon aicon-fuzhi\" data-v-7a4909d8=\"\"><svg aria-hidden=\"true\" class=\"\" fill=\"currentColor\" focusable=\"false\" height=\"1em\" width=\"1em\"><use data-v-7a4909d8=\"\" xlink:href=\"#icon-icon_fuzhi\"></use></svg></i> <span data-v-7a4909d8=\"\">复制</span></div></span> <textarea class=\"copy_input\" data-v-7a4909d8=\"\" id=\"CopyInut1656970010948\" type=\"text\"></textarea></div></td></tr> <tr><td class=\"tb\">企业类型\n",
      "        </td> <td>有限责任公司（台港澳与境内合资）</td> <td class=\"tb\">营业期限 <i aria-label=\"icon: icon-icon_zhushi\" class=\"app-glossary-info glossary-info anticon anticon-icon-icon_zhushi aicon aicon-zhushi\"><svg aria-hidden=\"true\" class=\"\" fill=\"currentColor\" focusable=\"false\" height=\"1em\" width=\"1em\"><use xlink:href=\"#icon-icon_zhushi\"></use></svg></i></td> <td>\n",
      "        1999-09-08\n",
      "        至\n",
      "        2040-09-07\n",
      "      </td> <td class=\"tb\">纳税人资质 <i aria-label=\"icon: icon-icon_zhushi\" class=\"app-glossary-info glossary-info anticon anticon-icon-icon_zhushi aicon aicon-zhushi\"><svg aria-hidden=\"true\" class=\"\" fill=\"currentColor\" focusable=\"false\" height=\"1em\" width=\"1em\"><use xlink:href=\"#icon-icon_zhushi\"></use></svg></i></td> <td>增值税一般纳税人</td></tr> <tr><td class=\"tb\">所属行业 <i aria-label=\"icon: icon-icon_zhushi\" class=\"app-glossary-info glossary-info anticon anticon-icon-icon_zhushi aicon aicon-zhushi\"><svg aria-hidden=\"true\" class=\"\" fill=\"currentColor\" focusable=\"false\" height=\"1em\" width=\"1em\"><use xlink:href=\"#icon-icon_zhushi\"></use></svg></i></td> <td>\n",
      "          软件和信息技术服务业\n",
      "        </td> <td class=\"tb\">所属地区 <i aria-label=\"icon: icon-icon_zhushi\" class=\"app-glossary-info glossary-info anticon anticon-icon-icon_zhushi aicon aicon-zhushi\"><svg aria-hidden=\"true\" class=\"\" fill=\"currentColor\" focusable=\"false\" height=\"1em\" width=\"1em\"><use xlink:href=\"#icon-icon_zhushi\"></use></svg></i></td> <td>浙江省</td> <td class=\"tb\">登记机关 <i aria-label=\"icon: icon-icon_zhushi\" class=\"app-glossary-info glossary-info anticon anticon-icon-icon_zhushi aicon aicon-zhushi\"><svg aria-hidden=\"true\" class=\"\" fill=\"currentColor\" focusable=\"false\" height=\"1em\" width=\"1em\"><use xlink:href=\"#icon-icon_zhushi\"></use></svg></i></td> <td>杭州市高新区（滨江）市场监督管理局</td></tr> <tr><td class=\"tb\">人员规模\n",
      "        </td> <td>5000-5999人</td> <td class=\"tb\">参保人数 <i aria-label=\"icon: icon-icon_zhushi\" class=\"glossary-info anticon anticon-icon-icon_zhushi aicon aicon-zhushi\"><svg aria-hidden=\"true\" class=\"\" fill=\"currentColor\" focusable=\"false\" height=\"1em\" width=\"1em\"><use xlink:href=\"#icon-icon_zhushi\"></use></svg></i></td> <td><span>5967</span> <a style=\"margin-left: 5px;\"><i aria-label=\"icon: icon-icon_qushi\" class=\"anticon anticon-icon-icon_qushi aicon aicon-qushi\" style=\"color: rgb(18, 139, 237); margin-right: 5px;\"><svg aria-hidden=\"true\" class=\"\" fill=\"currentColor\" focusable=\"false\" height=\"1em\" width=\"1em\"><use xlink:href=\"#icon-icon_qushi\"></use></svg></i>趋势图 &gt;\n",
      "        </a></td> <td class=\"tb\">曾用名 <i aria-label=\"icon: icon-icon_zhushi\" class=\"app-glossary-info glossary-info anticon anticon-icon-icon_zhushi aicon aicon-zhushi\"><svg aria-hidden=\"true\" class=\"\" fill=\"currentColor\" focusable=\"false\" height=\"1em\" width=\"1em\"><use xlink:href=\"#icon-icon_zhushi\"></use></svg></i></td> <td><div>\n",
      "            阿里巴巴（杭州）网络技术发展有限公司\n",
      "          </div><div>\n",
      "            阿里巴巴（中国）网络有限公司\n",
      "          </div></td></tr> <tr><td class=\"tb\">英文名\n",
      "        </td> <td colspan=\"3\"><div class=\"app-copy-box copy-hover-item\" data-v-7a4909d8=\"\"><span data-v-7a4909d8=\"\"><span class=\"copy-value\" data-v-7a4909d8=\"\">Alibaba(China)Network Technology Co., Ltd.</span> <!-- --></span> <span class=\"app-copy copy-button-item\" data-v-7a4909d8=\"\"><div class=\"base_copy\" data-v-7a4909d8=\"\"><i aria-label=\"icon: icon-icon_fuzhi\" class=\"anticon anticon-icon-icon_fuzhi aicon aicon-fuzhi\" data-v-7a4909d8=\"\"><svg aria-hidden=\"true\" class=\"\" fill=\"currentColor\" focusable=\"false\" height=\"1em\" width=\"1em\"><use data-v-7a4909d8=\"\" xlink:href=\"#icon-icon_fuzhi\"></use></svg></i> <span data-v-7a4909d8=\"\">复制</span></div></span> <textarea class=\"copy_input\" data-v-7a4909d8=\"\" id=\"CopyInut1656970010955\" type=\"text\"></textarea></div></td> <td class=\"tb\">进出口企业代码 <i aria-label=\"icon: icon-icon_zhushi\" class=\"app-glossary-info glossary-info anticon anticon-icon-icon_zhushi aicon aicon-zhushi\"><svg aria-hidden=\"true\" class=\"\" fill=\"currentColor\" focusable=\"false\" height=\"1em\" width=\"1em\"><use xlink:href=\"#icon-icon_zhushi\"></use></svg></i></td> <td><div class=\"app-copy-box copy-hover-item\" data-v-7a4909d8=\"\"><span class=\"copy-value\" data-v-7a4909d8=\"\">3300716105852</span> <span class=\"app-copy copy-button-item\" data-v-7a4909d8=\"\"><div class=\"base_copy\" data-v-7a4909d8=\"\"><i aria-label=\"icon: icon-icon_fuzhi\" class=\"anticon anticon-icon-icon_fuzhi aicon aicon-fuzhi\" data-v-7a4909d8=\"\"><svg aria-hidden=\"true\" class=\"\" fill=\"currentColor\" focusable=\"false\" height=\"1em\" width=\"1em\"><use data-v-7a4909d8=\"\" xlink:href=\"#icon-icon_fuzhi\"></use></svg></i> <span data-v-7a4909d8=\"\">复制</span></div></span> <textarea class=\"copy_input\" data-v-7a4909d8=\"\" id=\"CopyInut1656970010956\" type=\"text\"></textarea></div></td></tr> <tr><td class=\"tb\"><span>注册地址 </span> <i aria-label=\"icon: icon-icon_zhushi\" class=\"app-glossary-info glossary-info anticon anticon-icon-icon_zhushi aicon aicon-zhushi\"><svg aria-hidden=\"true\" class=\"\" fill=\"currentColor\" focusable=\"false\" height=\"1em\" width=\"1em\"><use xlink:href=\"#icon-icon_zhushi\"></use></svg></i></td> <td colspan=\"5\"><div class=\"app-copy-box copy-hover-item\" data-v-7a4909d8=\"\"><span data-v-7a4909d8=\"\"><a class=\"text-dk copy-value\" data-v-7a4909d8=\"\">浙江省杭州市滨江区网商路699号</a> <a class=\"m-l-xs\" data-v-7a4909d8=\"\" href=\"/map?keyNo=c70a55cb048c8e4db7bca357a2c113e0\" rel=\"nofollow\" target=\"_blank\">附近企业</a> <!-- --></span> <span class=\"app-copy copy-button-item\" data-v-7a4909d8=\"\"><div class=\"base_copy\" data-v-7a4909d8=\"\"><i aria-label=\"icon: icon-icon_fuzhi\" class=\"anticon anticon-icon-icon_fuzhi aicon aicon-fuzhi\" data-v-7a4909d8=\"\"><svg aria-hidden=\"true\" class=\"\" fill=\"currentColor\" focusable=\"false\" height=\"1em\" width=\"1em\"><use data-v-7a4909d8=\"\" xlink:href=\"#icon-icon_fuzhi\"></use></svg></i> <span data-v-7a4909d8=\"\">复制</span></div></span> <textarea class=\"copy_input\" data-v-7a4909d8=\"\" id=\"CopyInut1656970010957\" type=\"text\"></textarea></div></td></tr> <tr><td class=\"tb\">最新年报地址 <i aria-label=\"icon: icon-icon_zhushi\" class=\"app-glossary-info glossary-info anticon anticon-icon-icon_zhushi aicon aicon-zhushi\"><svg aria-hidden=\"true\" class=\"\" fill=\"currentColor\" focusable=\"false\" height=\"1em\" width=\"1em\"><use xlink:href=\"#icon-icon_zhushi\"></use></svg></i></td> <td colspan=\"5\"><div><div class=\"app-copy-box copy-hover-item copy-button-item\" data-v-7a4909d8=\"\"><span data-v-7a4909d8=\"\"><span class=\"copy-value\" data-v-7a4909d8=\"\">浙江省杭州市余杭区五常街道文一西路969号阿里巴巴西溪A区A4号楼小邮局</span> <a data-v-7a4909d8=\"\">（2021年报）</a></span> <span class=\"app-copy copy-button-item\" data-v-7a4909d8=\"\"><div class=\"base_copy\" data-v-7a4909d8=\"\"><i aria-label=\"icon: icon-icon_fuzhi\" class=\"anticon anticon-icon-icon_fuzhi aicon aicon-fuzhi\" data-v-7a4909d8=\"\"><svg aria-hidden=\"true\" class=\"\" fill=\"currentColor\" focusable=\"false\" height=\"1em\" width=\"1em\"><use data-v-7a4909d8=\"\" xlink:href=\"#icon-icon_fuzhi\"></use></svg></i> <span data-v-7a4909d8=\"\">复制</span></div></span> <textarea class=\"copy_input\" data-v-7a4909d8=\"\" id=\"CopyInut1656970010959\" type=\"text\"></textarea></div></div></td></tr> <tr><td class=\"tb\">经营范围 <i aria-label=\"icon: icon-icon_zhushi\" class=\"app-glossary-info glossary-info anticon anticon-icon-icon_zhushi aicon aicon-zhushi\"><svg aria-hidden=\"true\" class=\"\" fill=\"currentColor\" focusable=\"false\" height=\"1em\" width=\"1em\"><use xlink:href=\"#icon-icon_zhushi\"></use></svg></i></td> <td class=\"break-word\" colspan=\"5\"><div class=\"app-copy-box copy-hover-item\" data-v-7a4909d8=\"\"><span class=\"copy-value\" data-v-7a4909d8=\"\">一般项目：软件开发；软件销售；技术服务、技术开发、技术咨询、技术交流、技术转让、技术推广；网络设备销售；计算机软硬件及辅助设备零售；计算机软硬件及辅助设备批发；非居住房地产租赁；停车场服务；翻译服务；业务培训（不含教育培训、职业技能培训等需取得许可的培训）(除依法须经批准的项目外，凭营业执照依法自主开展经营活动)。</span> <span class=\"app-copy copy-button-item\" data-v-7a4909d8=\"\"><div class=\"base_copy\" data-v-7a4909d8=\"\"><i aria-label=\"icon: icon-icon_fuzhi\" class=\"anticon anticon-icon-icon_fuzhi aicon aicon-fuzhi\" data-v-7a4909d8=\"\"><svg aria-hidden=\"true\" class=\"\" fill=\"currentColor\" focusable=\"false\" height=\"1em\" width=\"1em\"><use data-v-7a4909d8=\"\" xlink:href=\"#icon-icon_fuzhi\"></use></svg></i> <span data-v-7a4909d8=\"\">复制</span></div></span> <textarea class=\"copy_input\" data-v-7a4909d8=\"\" id=\"CopyInut1656970010960\" type=\"text\"></textarea></div></td></tr></table>\n",
      "公司名称: 阿里巴巴（中国）网络技术有限公司\n",
      "成立年份: 1999\n",
      "集团总部: ['Hangzhou, Zhejiang, China']\n"
     ]
    }
   ],
   "source": [
    "time.sleep(2.273)\n",
    "driver.find_element(By.XPATH, \"//input[contains(@id,'searchKey')]\").send_keys(company)\n",
    "driver.find_element(By.XPATH, \"//button[@class='btn btn-primary']\").click()\n",
    "time.sleep(3)\n",
    "bs = BeautifulSoup(driver.page_source,'html.parser')  #将加载好的网页用BeautifulSoup解析成文本\n",
    "\n",
    "wait = WebDriverWait(driver, 3)\n",
    "links = wait.until(EC.presence_of_all_elements_located((By.XPATH, \"//a[contains(@href,'https://www.qcc.com/firm/')]\")))\n",
    "driver.execute_script(\"arguments[0].target='_self';\", links[0])\n",
    "driver.find_element(By.XPATH, \"//a[contains(@href,'https://www.qcc.com/firm/')]\").click()\n",
    "time.sleep(3)\n",
    "bs = BeautifulSoup(driver.page_source,'html.parser')  #将加载好的网页用BeautifulSoup解析成文本\n",
    "# print('漂亮的汤:', bs)\n",
    "\n",
    "html_table = bs.find(\"table\")\n",
    "str_table = str(html_table)\n",
    "print('基本信息:', str_table)\n",
    "\n",
    "print('公司名称:', company)\n",
    "\n",
    "# 成立年份\n",
    "print('成立年份:', get_registered_year(str_table))\n",
    "\n",
    "# 所属地区\n",
    "print('集团总部:', get_headquarter(str_table))"
   ]
  },
  {
   "cell_type": "code",
   "execution_count": null,
   "id": "bff4e405",
   "metadata": {},
   "outputs": [],
   "source": [
    "element = driver.find_element(By.XPATH, \"//a[starts-with(@href,'/firm/')]\")\n",
    "print(element)\n",
    "element.click()\n",
    "time.sleep(3)\n",
    "bs = BeautifulSoup(driver.page_source,'html.parser')"
   ]
  },
  {
   "cell_type": "code",
   "execution_count": null,
   "id": "549957df",
   "metadata": {},
   "outputs": [],
   "source": [
    "all_elements = driver.find_elements(By.XPATH, \"//span[@class='name']/a\")\n",
    "top_ten_shareholders = []\n",
    "\n",
    "for index, element in enumerate(all_elements):\n",
    "    top_ten_shareholders.append(element.get_attribute(\"innerHTML\"))\n",
    "print('十大股东:', top_ten_shareholders[:10])"
   ]
  },
  {
   "cell_type": "code",
   "execution_count": null,
   "id": "69b0ff07",
   "metadata": {},
   "outputs": [],
   "source": [
    "shareholders_table = bs.find_all('table')[7].find_all('tr')\n",
    "shareholders_data = []\n",
    "\n",
    "for table_row in shareholders_table:\n",
    "    row_data = []\n",
    "    for column, table_cell in enumerate(table_row):\n",
    "        try:\n",
    "            if column < 4:\n",
    "                continue\n",
    "            if column >= 4:\n",
    "                cell_content = table_cell.text.strip().split('\\n',1)[0].split(' 股',1)[0].split(' 大股东',1)[0].split(' 有股权质押',1)[0]\n",
    "            if column == 6 and cell_content != '持股数(股)':\n",
    "                cell_content = \"{:,}\".format(int(cell_content))\n",
    "            if column == 9 and cell_content != '增减(股)'and cell_content != '不变':\n",
    "                cell_content = \"{:,}\".format(int(cell_content))\n",
    "            row_data.append(cell_content)\n",
    "        except:\n",
    "            continue\n",
    "    shareholders_data.append(row_data)\n",
    "\n",
    "dataFrame = pd.DataFrame(data = shareholders_data[1:], columns = shareholders_data[0])\n",
    "dataFrame.to_csv('苏宁易购集团股份有限公司_shareholders.csv')\n",
    "with pd.option_context('display.max_rows', None, 'display.max_columns', None):\n",
    "    display(dataFrame)"
   ]
  },
  {
   "cell_type": "code",
   "execution_count": null,
   "id": "27058faf",
   "metadata": {},
   "outputs": [],
   "source": []
  }
 ],
 "metadata": {
  "kernelspec": {
   "display_name": "Python 3 (ipykernel)",
   "language": "python",
   "name": "python3"
  },
  "language_info": {
   "codemirror_mode": {
    "name": "ipython",
    "version": 3
   },
   "file_extension": ".py",
   "mimetype": "text/x-python",
   "name": "python",
   "nbconvert_exporter": "python",
   "pygments_lexer": "ipython3",
   "version": "3.9.7"
  }
 },
 "nbformat": 4,
 "nbformat_minor": 5
}
