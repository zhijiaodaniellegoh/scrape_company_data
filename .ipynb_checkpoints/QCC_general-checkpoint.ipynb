{
 "cells": [
  {
   "cell_type": "code",
   "execution_count": 1,
   "id": "91488dd7",
   "metadata": {},
   "outputs": [],
   "source": [
    "#从selenium导入浏览器驱动\n",
    "from selenium import webdriver\n",
    "#导入浏览器驱动设置选项\n",
    "from selenium.webdriver.chrome.options import Options\n",
    "from selenium.webdriver.common.by import By\n",
    "from selenium.webdriver.support import expected_conditions as EC\n",
    "from selenium.webdriver.support.ui import WebDriverWait\n",
    "#导入网页解析库\n",
    "from bs4 import BeautifulSoup\n",
    "#导入时间库,利用time.time()防止爬虫访问过于频繁被禁止访问\n",
    "import time\n",
    "#导入pandas数据分析库,生成dataframe\n",
    "import pandas as pd\n",
    "import pickle"
   ]
  },
  {
   "cell_type": "code",
   "execution_count": 2,
   "id": "f153ab2d",
   "metadata": {},
   "outputs": [],
   "source": [
    "companies = ['阿里巴巴（中国）网络技术有限公司']"
   ]
  },
  {
   "cell_type": "code",
   "execution_count": 3,
   "id": "2e10753c",
   "metadata": {},
   "outputs": [
    {
     "name": "stdout",
     "output_type": "stream",
     "text": [
      "请在打开的网页，扫码登录！\n"
     ]
    }
   ],
   "source": [
    "driver = webdriver.Chrome() #实例化一个浏览器\n",
    "driver.get('https://www.qcc.com/')\n",
    "print('请在打开的网页，扫码登录！')\n",
    "time.sleep(1.238)\n",
    "new_cookies = driver.get_cookies() #获取最新的cookies\n",
    "pickle.dump( new_cookies, open(\"cookies.pkl\",\"wb\"))\n",
    "driver.quit() #关闭浏览器"
   ]
  },
  {
   "cell_type": "code",
   "execution_count": 4,
   "id": "ac4a97c8",
   "metadata": {},
   "outputs": [],
   "source": [
    "for c in companies:\n",
    "    #首先，初始化变量\n",
    "    bs,bs1,bs2,partner= '','','',''\n",
    "    part,employ,pos,hisem,hispos,time1 = [],[],[],[],[],[]\n",
    "    \n",
    "    '''若取消下方被注释的代码可静默运行浏览器，不会显示页面，仅在后台运行'''\n",
    "    chrome_options=Options()\n",
    "    chrome_options.add_argument('--headless')\n",
    "    driver = webdriver.Chrome(options=chrome_options)\n",
    "    driver = webdriver.Chrome()           #实例化一个谷歌浏览器对象\n",
    "    driver.get(\"https://www.qcc.com/\")   #浏览器打开企查查网站\n",
    "    \n",
    "    cookies = pickle.load(open(\"cookies.pkl\", \"rb\"))\n",
    "    for cookie in cookies:\n",
    "        driver.add_cookie(cookie)\n",
    "    driver.get(\"https://www.qcc.com/\")\n",
    "    driver.refresh()                #自动刷新页面，请检查是否已经自动登录账号\n",
    "    \n",
    "#     try:\n",
    "    time.sleep(2.273)\n",
    "\n",
    "#     bs = BeautifulSoup(driver.page_source,'html.parser')  #将加载好的网页用BeautifulSoup解析成文本\n",
    "#     print(bs)\n",
    "    driver.find_element(By.XPATH, \"//input[contains(@id,'searchKey')]\").send_keys(c)\n",
    "    driver.find_element(By.XPATH, \"//button[@class='btn btn-primary']\").click()\n",
    "    time.sleep(3)\n",
    "    bs = BeautifulSoup(driver.page_source,'html.parser')  #将加载好的网页用BeautifulSoup解析成文本\n",
    "    \n",
    "    wait = WebDriverWait(driver, 3)\n",
    "    links = wait.until(EC.presence_of_all_elements_located((By.XPATH, \"//a[contains(@href,'https://www.qcc.com/firm/')]\")))\n",
    "    driver.execute_script(\"arguments[0].target='_self';\", links[0])\n",
    "    driver.find_element(By.XPATH, \"//a[contains(@href,'https://www.qcc.com/firm/')]\").click()\n",
    "    time.sleep(3)\n",
    "    bs = BeautifulSoup(driver.page_source,'html.parser')  #将加载好的网页用BeautifulSoup解析成文本\n",
    "    \n",
    "    html_table = bs.find(\"table\")\n",
    "    str_table = str(html_table)\n",
    "    print(str_table)\n",
    "    \n",
    "    # 成立年份\n",
    "    str_table_year = re.compile(r'([1|2]\\d\\d\\d)[-](0[1-9]|1[012])[-](0[1-9]|[12][0-9]|3[01])')\n",
    "    iterator = str_table_year.findall(str_table)\n",
    "    if len(list(iterator)) > 0:\n",
    "         print('成立年份:', list(iterator)[0][0])\n",
    "    elif \"年\" in str_table:\n",
    "        str_table_year = re.compile(r'([1|2]\\d\\d\\d)[年](\\d+)[月](\\d+)[日]')\n",
    "        iterator = str_table_year.findall(str_table)\n",
    "        print('成立年份:', list(iterator)[0][0])\n",
    "    \n",
    "    # 所属地区\n",
    "    headquarters = {\n",
    "        '开曼群岛': 'Cayman Islands',\n",
    "        '開曼群島':'Cayman Islands',\n",
    "        '英属维尔京群岛': 'British Virgin Islands'\n",
    "    }\n",
    "    with open('chinese_cities.csv', newline='') as csvfile:\n",
    "        headquarter_reader = csv.reader(csvfile, delimiter=',')\n",
    "        for en_city, cn_city, en_province in headquarter_reader:\n",
    "            if cn_city in ['香港', '澳门', '澳門', '北京市', '重庆市', '上海市', '天津市']:\n",
    "                headquarters[cn_city] = \"{}, China\".format(en_city)\n",
    "            else:\n",
    "                headquarters[cn_city] = \"{}, {}, China\".format(en_city, en_province)\n",
    "    print(companies)\n",
    "    en_headquarter = [headquarter for cn_city, headquarter in headquarters.items() if cn_city in str_table]\n",
    "    if '非香港' in str_table:\n",
    "        en_headquarter.remove('Hong Kong, China')\n",
    "        print('Headquarter is N/A')\n",
    "    if 'Cayman Islands' in en_headquarter:\n",
    "        print('Put in incorporated catergory')\n",
    "    else:\n",
    "        print(en_headquarter)"
   ]
  }
 ],
 "metadata": {
  "kernelspec": {
   "display_name": "Python 3 (ipykernel)",
   "language": "python",
   "name": "python3"
  },
  "language_info": {
   "codemirror_mode": {
    "name": "ipython",
    "version": 3
   },
   "file_extension": ".py",
   "mimetype": "text/x-python",
   "name": "python",
   "nbconvert_exporter": "python",
   "pygments_lexer": "ipython3",
   "version": "3.9.7"
  }
 },
 "nbformat": 4,
 "nbformat_minor": 5
}
